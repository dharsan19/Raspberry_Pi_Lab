{
 "cells": [
  {
   "attachments": {},
   "cell_type": "markdown",
   "metadata": {},
   "source": [
    "## Write a Python script to sort (ascending and descending) a dictionary by value"
   ]
  },
  {
   "cell_type": "code",
   "execution_count": 2,
   "metadata": {},
   "outputs": [
    {
     "name": "stdout",
     "output_type": "stream",
     "text": [
      "Original dictionary :  {1: 1, 3: 2, 4: 1, 2: 5, 0: 0}\n",
      "Dictionary in ascending order by value :  {0: 0, 1: 1, 4: 1, 3: 2, 2: 5}\n",
      "Dictionary in descending order by value :  {2: 5, 3: 2, 1: 1, 4: 1, 0: 0}\n"
     ]
    }
   ],
   "source": [
    "# TASK 1\n",
    "# DHARSAN S RA2011003010732\n",
    "import operator\n",
    "d = {1: 1, 3: 2, 4: 1, 2: 5, 0: 0}\n",
    "print('Original dictionary : ',d)\n",
    "sorted_d = dict(sorted(d.items(), key=operator.itemgetter(1)))\n",
    "print('Dictionary in ascending order by value : ',sorted_d)\n",
    "sorted_d = dict( sorted(d.items(), key=operator.itemgetter(1),reverse=True))\n",
    "print('Dictionary in descending order by value : ',sorted_d)\n"
   ]
  },
  {
   "attachments": {},
   "cell_type": "markdown",
   "metadata": {},
   "source": [
    "## Write a Python Program to generate a temperature profile dictionary (values in range:30 to 100)for ten days randomly (from august 1 to august 31)  and check whether august 10 data exist in a dictionary or not. (Key=date,value=temperate value)"
   ]
  },
  {
   "cell_type": "code",
   "execution_count": 13,
   "metadata": {},
   "outputs": [
    {
     "name": "stdout",
     "output_type": "stream",
     "text": [
      "Day\t\t Temperature\n",
      "August  3 \t 86\n",
      "August  9 \t 54\n",
      "August  4 \t 71\n",
      "August  23 \t 62\n",
      "August  25 \t 66\n",
      "August  20 \t 79\n",
      "August  30 \t 52\n",
      "August  24 \t 63\n",
      "August  19 \t 69\n",
      "Does not exist\n"
     ]
    }
   ],
   "source": [
    "# TASK 2\n",
    "# DHARSAN S RA2011003010732\n",
    "import random\n",
    "tempProf = {}\n",
    "for i in range(11):    \n",
    "    x = random.randrange(1,31)    \n",
    "    y = random.randrange(30,100)    \n",
    "    tempProf[x]=y\n",
    "print(\"Day\\t\\t Temperature\")\n",
    "for day,temp in tempProf.items():    \n",
    "    print(\"August \",day,\"\\t\",temp)\n",
    "flag = 10 in tempProf\n",
    "if flag == False:    \n",
    "    print(\"Does not exist\")\n",
    "else:    \n",
    "    print('It exists')\n"
   ]
  },
  {
   "attachments": {},
   "cell_type": "markdown",
   "metadata": {},
   "source": [
    "## In program 2, find the count of temperature 30,40 in the dictionary."
   ]
  },
  {
   "cell_type": "code",
   "execution_count": 9,
   "metadata": {},
   "outputs": [
    {
     "name": "stdout",
     "output_type": "stream",
     "text": [
      "Day\t\t Temperature\n",
      "August  20 \t 50\n",
      "August  21 \t 76\n",
      "August  4 \t 55\n",
      "August  28 \t 63\n",
      "August  6 \t 70\n",
      "August  19 \t 98\n",
      "August  18 \t 83\n",
      "August  26 \t 40\n",
      "August  25 \t 83\n",
      "August  13 \t 32\n",
      "August  7 \t 34\n",
      "Count of temperature 30 in the temperature profile is:  0\n",
      "Count of temperature 40 in the temperature profile is:  1\n"
     ]
    }
   ],
   "source": [
    "# TASK 3\n",
    "# DHARSAN S RA2011003010732\n",
    "import random\n",
    "tempProf = {}\n",
    "count1 = 0\n",
    "count2 = 0\n",
    "\n",
    "for i in range(11):    \n",
    "    x = random.randrange(1,31)    \n",
    "    y = random.randrange(30,100)    \n",
    "    tempProf[x]=y\n",
    "print(\"Day\\t\\t Temperature\")\n",
    "for day,temp in tempProf.items():    \n",
    "    print(\"August \",day,\"\\t\",temp)\n",
    "for a in tempProf:    \n",
    "    if tempProf[a] == 30:         \n",
    "        count1+=1    \n",
    "    if tempProf[a] == 40:        \n",
    "        count2+=1\n",
    "print('Count of temperature 30 in the temperature profile is: ',count1)\n",
    "print('Count of temperature 40 in the temperature profile is: ',count2)"
   ]
  },
  {
   "attachments": {},
   "cell_type": "markdown",
   "metadata": {},
   "source": [
    "## Repeat the program 2 for July month and write a python program to concatenate the two dictionaries into one dictionary named July_aug_temp."
   ]
  },
  {
   "cell_type": "code",
   "execution_count": 10,
   "metadata": {},
   "outputs": [
    {
     "name": "stdout",
     "output_type": "stream",
     "text": [
      "Day\t\t Temperature\n",
      "July 6  \t 43\n",
      "July 3  \t 91\n",
      "July 31  \t 46\n",
      "July 14  \t 97\n",
      "July 29  \t 89\n",
      "July 4  \t 58\n",
      "July 10  \t 37\n",
      "July 13  \t 39\n",
      "July 9  \t 94\n",
      "August 27  \t 42\n",
      "August 4  \t 77\n",
      "August 15  \t 94\n",
      "August 23  \t 35\n",
      "August 7  \t 41\n",
      "August 13  \t 96\n",
      "August 22  \t 66\n",
      "August 21  \t 45\n"
     ]
    }
   ],
   "source": [
    "# TASK 4\n",
    "# DHARSAN S RA2011003010732\n",
    "import random\n",
    "from collections import defaultdict\n",
    "tempProf_july = {}\n",
    "tempProf_aug = {}\n",
    "july_aug_temp = defaultdict(list)\n",
    "for i in range(0,10):    \n",
    "    x = random.randint(1,31)    \n",
    "    y = random.randint(30,100)    \n",
    "    s1=\"July \"+str(x)    \n",
    "    tempProf_july[s1]=y    \n",
    "    m = random.randint(1,31)    \n",
    "    n = random.randint(30,100)    \n",
    "    s2=\"August \"+str(m)    \n",
    "    tempProf_aug[s2]=n\n",
    "for tempProf in (tempProf_july, tempProf_aug):    \n",
    "    for key, value in tempProf.items():        \n",
    "        july_aug_temp[key].append(value)\n",
    "print(\"Day\\t\\t Temperature\")\n",
    "for day,temp in july_aug_temp.items():    \n",
    "    print(day,\" \\t\",temp[0])"
   ]
  },
  {
   "attachments": {},
   "cell_type": "markdown",
   "metadata": {},
   "source": [
    "## Write a Python Program to multiply all the items in the dictionary “July_aug_temp”  which is generated in program 4 and find average temperate for the two months."
   ]
  },
  {
   "cell_type": "code",
   "execution_count": 11,
   "metadata": {},
   "outputs": [
    {
     "name": "stdout",
     "output_type": "stream",
     "text": [
      "Day\t\t Temperature\n",
      "July 18  \t 42\n",
      "July 9  \t 47\n",
      "July 24  \t 93\n",
      "July 19  \t 64\n",
      "July 8  \t 58\n",
      "July 3  \t 48\n",
      "July 10  \t 39\n",
      "August 1  \t 76\n",
      "August 20  \t 95\n",
      "August 27  \t 43\n",
      "August 29  \t 76\n",
      "August 26  \t 59\n",
      "August 2  \t 42\n",
      "August 25  \t 84\n",
      "The average temperature of july and august is 61.86\n"
     ]
    }
   ],
   "source": [
    "# TASK 5\n",
    "# DHARSAN S RA2011003010732\n",
    "import random\n",
    "from collections import defaultdict\n",
    "tempProf_july = {}\n",
    "tempProf_aug = {}\n",
    "july_aug_temp = defaultdict(list)\n",
    "sumTemp = 0\n",
    "count = 0\n",
    "for i in range(0,10):    \n",
    "    x = random.randint(1,31)    \n",
    "    y = random.randint(30,100)    \n",
    "    s1=\"July \"+str(x)    \n",
    "    tempProf_july[s1]=y    \n",
    "    m = random.randint(1,31)    \n",
    "    n = random.randint(30,100)    \n",
    "    s2=\"August \"+str(m)    \n",
    "    tempProf_aug[s2]=n\n",
    "for tempProf in (tempProf_july, tempProf_aug):    \n",
    "    for key, value in tempProf.items():        \n",
    "        july_aug_temp[key].append(value)\n",
    "print(\"Day\\t\\t Temperature\")\n",
    "for day,temp in july_aug_temp.items():    \n",
    "    print(day,\" \\t\",temp[0])\n",
    "for days in july_aug_temp:    \n",
    "    sumTemp+=july_aug_temp[days][0]    \n",
    "    count+=1\n",
    "avg=float(sumTemp)/count\n",
    "print(\"The average temperature of july and august is %.2f\"%avg)"
   ]
  },
  {
   "cell_type": "code",
   "execution_count": 1,
   "metadata": {},
   "outputs": [
    {
     "name": "stdout",
     "output_type": "stream",
     "text": [
      "Product prices:\n",
      "{'apple': 10.0, 'orange': 20.0, 'mango': 30.0}\n",
      "mango costs 30.00\n"
     ]
    }
   ],
   "source": [
    "# POST LAB TASK 1\n",
    "# DHARSAN S RA2011003010732\n",
    "\n",
    "product_prices = {}\n",
    "\n",
    "while True:\n",
    "    product = input(\"Enter a product name (or 'q' to quit): \")\n",
    "    if product == \"q\":\n",
    "        break\n",
    "    price = float(input(\"Enter the price of the product: \"))\n",
    "    product_prices[product] = price\n",
    "\n",
    "print(\"Product prices:\")\n",
    "print(product_prices)\n",
    "\n",
    "search_product = input(\"Enter a product name to search: \")\n",
    "if search_product in product_prices:\n",
    "    print(f\"{search_product} costs {product_prices[search_product]:.2f}\")\n",
    "else:\n",
    "    print(f\"{search_product} is not in the product list.\")\n"
   ]
  },
  {
   "cell_type": "code",
   "execution_count": 2,
   "metadata": {},
   "outputs": [
    {
     "name": "stdout",
     "output_type": "stream",
     "text": [
      "Maximum value: 30\n",
      "Minimum value: 5\n"
     ]
    }
   ],
   "source": [
    "# POST LAB TASK 2\n",
    "# DHARSAN S RA2011003010732\n",
    "# define a dictionary\n",
    "my_dict = {\"a\": 10, \"b\": 5, \"c\": 20, \"d\": 30}\n",
    "max_value = max(my_dict.values())\n",
    "min_value = min(my_dict.values())\n",
    "print(\"Maximum value:\", max_value)\n",
    "print(\"Minimum value:\", min_value)"
   ]
  }
 ],
 "metadata": {
  "kernelspec": {
   "display_name": "Python 3",
   "language": "python",
   "name": "python3"
  },
  "language_info": {
   "codemirror_mode": {
    "name": "ipython",
    "version": 3
   },
   "file_extension": ".py",
   "mimetype": "text/x-python",
   "name": "python",
   "nbconvert_exporter": "python",
   "pygments_lexer": "ipython3",
   "version": "3.9.6"
  },
  "orig_nbformat": 4,
  "vscode": {
   "interpreter": {
    "hash": "31f2aee4e71d21fbe5cf8b01ff0e069b9275f58929596ceb00d14d90e3e16cd6"
   }
  }
 },
 "nbformat": 4,
 "nbformat_minor": 2
}
