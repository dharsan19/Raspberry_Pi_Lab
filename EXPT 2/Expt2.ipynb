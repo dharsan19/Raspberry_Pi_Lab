{
 "cells": [
  {
   "cell_type": "code",
   "execution_count": 21,
   "metadata": {},
   "outputs": [
    {
     "name": "stdout",
     "output_type": "stream",
     "text": [
      "The Maximum Number is : 20\n"
     ]
    }
   ],
   "source": [
    "# Task 1\n",
    "# DHARSAN S RA2011003010732\n",
    "num1 = int(input(\"Enter the First Number: \"))\n",
    "num2 = int(input(\"Enter the Second Number: \"))\n",
    "def max(num1, num2):\n",
    "    if(num1 > num2):\n",
    "        print(f\"The Maximum Number is : {num1}\")\n",
    "    else:\n",
    "        print(f\"The Maximum Number is : {num2}\")\n",
    "\n",
    "max(num1,num2)"
   ]
  },
  {
   "cell_type": "code",
   "execution_count": 7,
   "metadata": {},
   "outputs": [
    {
     "name": "stdout",
     "output_type": "stream",
     "text": [
      "Three and Five\n"
     ]
    }
   ],
   "source": [
    "# Task 2\n",
    "# DHARSAN S RA2011003010732\n",
    "num = int(input(\"Enter a Number : \"))\n",
    "\n",
    "def divisible(num):\n",
    "    if(num%3 == 0 and num%5 == 0):\n",
    "        print(\"Three and Five\")\n",
    "    elif(num%3 == 0):\n",
    "        print(\"Three\")\n",
    "    else:\n",
    "        print(\"Five\")\n",
    "\n",
    "divisible(num)"
   ]
  },
  {
   "cell_type": "code",
   "execution_count": 13,
   "metadata": {},
   "outputs": [
    {
     "name": "stdout",
     "output_type": "stream",
     "text": [
      "License Suspended\n"
     ]
    }
   ],
   "source": [
    "# Task 3\n",
    "# DHARSAN S RA2011003010732\n",
    "speed = int(input(\"Enter the Speed\"))\n",
    "\n",
    "def speed_of_drivers(speed):\n",
    "    point = int((speed-70)/5)\n",
    "    if(speed <= 70):\n",
    "        print(\"OK\")\n",
    "    elif(speed > 70 and point < 12):\n",
    "        print(f\"Points : {point}\")\n",
    "    else:\n",
    "        print(\"License Suspended\")\n",
    "\n",
    "speed_of_drivers(speed)"
   ]
  },
  {
   "cell_type": "code",
   "execution_count": 1,
   "metadata": {},
   "outputs": [
    {
     "name": "stdout",
     "output_type": "stream",
     "text": [
      "0 EVEN\n",
      "1 ODD\n",
      "2 EVEN\n",
      "3 ODD\n",
      "4 EVEN\n",
      "5 ODD\n",
      "6 EVEN\n",
      "7 ODD\n",
      "8 EVEN\n",
      "9 ODD\n",
      "10 EVEN\n"
     ]
    }
   ],
   "source": [
    "# Task 4\n",
    "# DHARSAN S RA2011003010732\n",
    "limit = int(input(\"Enter the Number: \"))\n",
    "def shownumbers(limit):\n",
    "    for x in range(limit+1):\n",
    "        if x%2 == 0:\n",
    "            print(f\"{x} EVEN\")\n",
    "        else:\n",
    "            print(f\"{x} ODD\")\n",
    "        \n",
    "shownumbers(limit)"
   ]
  },
  {
   "cell_type": "code",
   "execution_count": 22,
   "metadata": {},
   "outputs": [
    {
     "name": "stdout",
     "output_type": "stream",
     "text": [
      "6 is less than 7\n",
      "7 is Equal to 7\n",
      "8 is not less than 7\n"
     ]
    }
   ],
   "source": [
    "# Task 5\n",
    "# DHARSAN S RA2011003010732\n",
    "num = int(input(\"Enter the Number : \"))\n",
    "while(num <= 7):\n",
    "    if num < 7:\n",
    "        print(f\"{num} is less than 7\")\n",
    "    else:\n",
    "        print(f\"{num} is Equal to 7\")\n",
    "    num += 1\n",
    "\n",
    "print(f\"{num} is not less than 7\")"
   ]
  },
  {
   "cell_type": "code",
   "execution_count": 2,
   "metadata": {},
   "outputs": [
    {
     "name": "stdout",
     "output_type": "stream",
     "text": [
      "2\n",
      "3\n",
      "5\n",
      "7\n"
     ]
    }
   ],
   "source": [
    "# POST LAB TASK 1\n",
    "# DHARSAN S\n",
    "limit = int(input(\"Enter the Limit : \"))\n",
    "\n",
    "for num in range(limit):\n",
    "   if num > 1:\n",
    "       for i in range(2, num):\n",
    "           if (num % i) == 0:\n",
    "               break\n",
    "       else:\n",
    "           print(num)"
   ]
  },
  {
   "cell_type": "code",
   "execution_count": 3,
   "metadata": {},
   "outputs": [
    {
     "name": "stdout",
     "output_type": "stream",
     "text": [
      "The factorial of 5 is 120\n"
     ]
    }
   ],
   "source": [
    "# POST LAB TASK 2\n",
    "# DHARSAN S\n",
    "num = int(input(\"Enter the Number : \"))\n",
    "factorial = 1\n",
    "if num == 0:\n",
    "   print(\"The factorial of 0 is 1\")\n",
    "else:\n",
    "   for i in range(1,num + 1):\n",
    "       factorial = factorial*i\n",
    "   print(\"The factorial of\",num,\"is\",factorial)"
   ]
  }
 ],
 "metadata": {
  "kernelspec": {
   "display_name": "Python 3",
   "language": "python",
   "name": "python3"
  },
  "language_info": {
   "codemirror_mode": {
    "name": "ipython",
    "version": 3
   },
   "file_extension": ".py",
   "mimetype": "text/x-python",
   "name": "python",
   "nbconvert_exporter": "python",
   "pygments_lexer": "ipython3",
   "version": "3.9.6"
  },
  "orig_nbformat": 4,
  "vscode": {
   "interpreter": {
    "hash": "31f2aee4e71d21fbe5cf8b01ff0e069b9275f58929596ceb00d14d90e3e16cd6"
   }
  }
 },
 "nbformat": 4,
 "nbformat_minor": 2
}
