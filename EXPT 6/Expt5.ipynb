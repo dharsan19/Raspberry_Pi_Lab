{
 "cells": [
  {
   "cell_type": "code",
   "execution_count": null,
   "metadata": {},
   "outputs": [],
   "source": [
    "# DHARSAN S\n",
    "# RA2011003010732\n",
    "\n",
    "import RPi.GPIO as GPIO\n",
    "\n",
    "# Set up GPIO pin for relay control\n",
    "GPIO.setmode(GPIO.BCM)\n",
    "GPIO.setup(18, GPIO.OUT)\n",
    "\n",
    "# Prompt user for input\n",
    "while True:\n",
    "    user_input = input(\"Enter 'on' to turn on the relay or 'off' to turn it off: \")\n",
    "    \n",
    "    if user_input.lower() == \"on\":\n",
    "        # Turn on relay\n",
    "        GPIO.output(18, GPIO.HIGH)\n",
    "    elif user_input.lower() == \"off\":\n",
    "        # Turn off relay\n",
    "        GPIO.output(18, GPIO.LOW)\n",
    "    else:\n",
    "        # Invalid input\n",
    "        print(\"Invalid input. Please try again.\")\n",
    "\n",
    "# Clean up GPIO pins\n",
    "GPIO.cleanup()\n"
   ]
  }
 ],
 "metadata": {
  "language_info": {
   "name": "python"
  },
  "orig_nbformat": 4
 },
 "nbformat": 4,
 "nbformat_minor": 2
}
