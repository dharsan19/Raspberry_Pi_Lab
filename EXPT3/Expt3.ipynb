{
 "cells": [
  {
   "cell_type": "code",
   "execution_count": 2,
   "metadata": {},
   "outputs": [
    {
     "name": "stdout",
     "output_type": "stream",
     "text": [
      "['Five', 'One', 'Two', 'Three', 'Four', 'Zero']\n"
     ]
    }
   ],
   "source": [
    "# TASK 1\n",
    "# DHARSAN RA2011003010732\n",
    "list1 = [\"Zero\",\"One\",\"Two\",\"Three\",\"Four\",\"Five\"]\n",
    "def interchange(list1):\n",
    "    temp = \"\"\n",
    "    temp = list1[0]\n",
    "    list1[0] = list1[-1]\n",
    "    list1[-1] = temp\n",
    "    print(list1[0:])\n",
    "interchange(list1)\n",
    "\n"
   ]
  },
  {
   "cell_type": "code",
   "execution_count": 21,
   "metadata": {},
   "outputs": [
    {
     "name": "stdout",
     "output_type": "stream",
     "text": [
      "The N Largest Elements from the list : \n",
      "[10, 9]\n",
      "The N smallest Elements from the list : \n",
      "[2, 1]\n"
     ]
    }
   ],
   "source": [
    "# TASK 2\n",
    "# DHARSAN RA2011003010732\n",
    "list2 = [1,2,3,4,5,6,7,8,9,10]\n",
    "list2.sort(reverse=True)\n",
    "def largeandsmall(list2):\n",
    "    n = int(input(\"Enter the Value of N :\"))\n",
    "    print(\"The N Largest Elements from the list : \")\n",
    "    print(list2[:n])\n",
    "    print(\"The N smallest Elements from the list : \")\n",
    "    print(list2[-n:])\n",
    "largeandsmall(list2)"
   ]
  },
  {
   "cell_type": "code",
   "execution_count": 26,
   "metadata": {},
   "outputs": [
    {
     "name": "stdout",
     "output_type": "stream",
     "text": [
      "[1, 3, 6, 10, 15, 21, 28, 36, 45, 55]\n"
     ]
    }
   ],
   "source": [
    "# TASK 3\n",
    "# DHARSAN RA2011003010732\n",
    "list3  = [1,2,3,4,5,6,7,8,9,10]\n",
    "def cummulative(list3):\n",
    "    list3a = list()\n",
    "    sum = 0\n",
    "    for a in list3:\n",
    "        sum += a\n",
    "        list3a.append(sum)\n",
    "    print(list3a)\n",
    "cummulative(list3)"
   ]
  },
  {
   "cell_type": "code",
   "execution_count": 20,
   "metadata": {},
   "outputs": [
    {
     "name": "stdout",
     "output_type": "stream",
     "text": [
      "4 5 10 "
     ]
    }
   ],
   "source": [
    "# TASK 4\n",
    "# DHARSAN RA2011003010732\n",
    "list4 = [-1,-3,-4,4,5,-9,10]\n",
    "def positive(list4):\n",
    "    for a in list4:\n",
    "        if a > 0:\n",
    "            print(a, end = \" \")\n",
    "positive(list4)"
   ]
  },
  {
   "cell_type": "code",
   "execution_count": 24,
   "metadata": {},
   "outputs": [
    {
     "name": "stdout",
     "output_type": "stream",
     "text": [
      "[1, 4, 9, 16, 25]\n",
      "[625, 676, 729, 784, 841]\n"
     ]
    }
   ],
   "source": [
    "# TASK 5\n",
    "# DHARSAN RA2011003010732\n",
    "def values():\n",
    "    list5 = list()\n",
    "    for a in range(1,30):\n",
    "        list5.append(a**2)\n",
    "    print(list5[:5])\n",
    "    print(list5[-5:])\n",
    "values()"
   ]
  }
 ],
 "metadata": {
  "kernelspec": {
   "display_name": "Python 3",
   "language": "python",
   "name": "python3"
  },
  "language_info": {
   "codemirror_mode": {
    "name": "ipython",
    "version": 3
   },
   "file_extension": ".py",
   "mimetype": "text/x-python",
   "name": "python",
   "nbconvert_exporter": "python",
   "pygments_lexer": "ipython3",
   "version": "3.9.6"
  },
  "orig_nbformat": 4,
  "vscode": {
   "interpreter": {
    "hash": "31f2aee4e71d21fbe5cf8b01ff0e069b9275f58929596ceb00d14d90e3e16cd6"
   }
  }
 },
 "nbformat": 4,
 "nbformat_minor": 2
}
