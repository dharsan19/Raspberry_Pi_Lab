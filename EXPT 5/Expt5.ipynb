{
 "cells": [
  {
   "attachments": {},
   "cell_type": "markdown",
   "metadata": {},
   "source": [
    "# Blinking the LED"
   ]
  },
  {
   "cell_type": "code",
   "execution_count": null,
   "metadata": {},
   "outputs": [],
   "source": [
    "import time\n",
    "import RPi.GPIO as GPIO       ## Import GPIO library\n",
    "GPIO.setmode(GPIO.BOARD)      ## Use board pin numbering\n",
    "GPIO.setup(18, GPIO.OUT)      ## Setup GPIO Pin 11 to OUT\n",
    "while True:\n",
    "\tGPIO.output(18,True)  ## Turn on Led\n",
    "\ttime.sleep(2)         ## Wait for one second\n",
    "\tGPIO.output(18,False) ## Turn off Led\n",
    "\ttime.sleep(2)         ## Wait for one second"
   ]
  },
  {
   "attachments": {},
   "cell_type": "markdown",
   "metadata": {},
   "source": [
    "# Blinking the LED With brightness control"
   ]
  },
  {
   "cell_type": "code",
   "execution_count": null,
   "metadata": {},
   "outputs": [],
   "source": [
    "import time\n",
    "import RPi.GPIO as GPIO\n",
    "\n",
    "GPIO.setmode(GPIO.BOARD)\n",
    "GPIO.setup(18, GPIO.OUT)\n",
    "\n",
    "pwm = GPIO.PWM(18, 100)\n",
    "pwm.start(0)\n",
    "\n",
    "try:\n",
    "    while True:\n",
    "        duty_cycle = float(input(\"Enter the Duty cycle : \" ))\n",
    "        pwm.ChangeDutyCycle(duty_cycle)\n",
    "\n",
    "except KeyboardInterrupt:\n",
    "    pass\n",
    "\n",
    "pwm.stop()\n",
    "GPIO.cleanup()\n"
   ]
  },
  {
   "attachments": {},
   "cell_type": "markdown",
   "metadata": {},
   "source": [
    "# Blinking the led to low, medium and high ."
   ]
  },
  {
   "cell_type": "code",
   "execution_count": null,
   "metadata": {},
   "outputs": [],
   "source": [
    "import RPi.GPIO as GPIO\n",
    "led_pin = 18\n",
    "GPIO.setmode(GPIO.BCM)\n",
    "GPIO.setup(led_pin, GPIO.OUT)\n",
    "pwm_led = GPIO.PWM(led_pin, 500)\n",
    "pwm_led.start(100)\n",
    "\n",
    "while True:\n",
    "    duty_s = input(\"Enter Brightness (Low, Medium, High): \")\n",
    "    if duty_s == \"Low\":\n",
    "      duty = 10\n",
    "    elif duty_s == \"Medium\":\n",
    "      duty = 1000\n",
    "    elif duty_s == \"High\":\n",
    "      duty = 10000\n",
    "      pwm_led.ChangeDutyCycle(duty)"
   ]
  }
 ],
 "metadata": {
  "kernelspec": {
   "display_name": "Python 3",
   "language": "python",
   "name": "python3"
  },
  "language_info": {
   "name": "python",
   "version": "3.9.6"
  },
  "orig_nbformat": 4,
  "vscode": {
   "interpreter": {
    "hash": "31f2aee4e71d21fbe5cf8b01ff0e069b9275f58929596ceb00d14d90e3e16cd6"
   }
  }
 },
 "nbformat": 4,
 "nbformat_minor": 2
}
