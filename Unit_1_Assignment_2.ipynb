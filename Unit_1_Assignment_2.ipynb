{
 "cells": [
  {
   "cell_type": "code",
   "execution_count": 1,
   "metadata": {},
   "outputs": [
    {
     "name": "stdout",
     "output_type": "stream",
     "text": [
      "{'x': [11, 12, 13, 14, 15, 16, 17, 18, 19],\n",
      " 'y': [21, 22, 23, 24, 25, 26, 27, 28, 29],\n",
      " 'z': [31, 32, 33, 34, 35, 36, 37, 38, 39]}\n",
      "15\n",
      "25\n",
      "35\n",
      "x has value [11, 12, 13, 14, 15, 16, 17, 18, 19]\n",
      "y has value [21, 22, 23, 24, 25, 26, 27, 28, 29]\n",
      "z has value [31, 32, 33, 34, 35, 36, 37, 38, 39]\n"
     ]
    }
   ],
   "source": [
    "# QUES 1\n",
    "# DHARSAN S RA2011003010732\n",
    "from pprint import pprint\n",
    "dict_nums = dict(x=list(range(11, 20)), y=list(range(21, 30)), z=list(range(31, 40)))\n",
    "pprint(dict_nums)\n",
    "print(dict_nums[\"x\"][4])\n",
    "print(dict_nums[\"y\"][4])\n",
    "print(dict_nums[\"z\"][4])\n",
    "for k,v in dict_nums.items():\n",
    "   print(k, \"has value\", v)"
   ]
  },
  {
   "cell_type": "code",
   "execution_count": 2,
   "metadata": {},
   "outputs": [
    {
     "name": "stdout",
     "output_type": "stream",
     "text": [
      "Original dictionary :  {1: 2, 3: 4, 4: 3, 2: 1, 0: 0}\n",
      "Dictionary in ascending order by value :  [(0, 0), (2, 1), (1, 2), (4, 3), (3, 4)]\n",
      "Dictionary in descending order by value :  {3: 4, 4: 3, 1: 2, 2: 1, 0: 0}\n"
     ]
    }
   ],
   "source": [
    "# QUES 2\n",
    "# DHARSAN S RA2011003010732\n",
    "import operator\n",
    "d = {1: 2, 3: 4, 4: 3, 2: 1, 0: 0}\n",
    "print('Original dictionary : ',d)\n",
    "sorted_d = sorted(d.items(), key=operator.itemgetter(1))\n",
    "print('Dictionary in ascending order by value : ',sorted_d)\n",
    "sorted_d = dict( sorted(d.items(), key=operator.itemgetter(1),reverse=True))\n",
    "print('Dictionary in descending order by value : ',sorted_d)"
   ]
  },
  {
   "cell_type": "code",
   "execution_count": 3,
   "metadata": {},
   "outputs": [
    {
     "name": "stdout",
     "output_type": "stream",
     "text": [
      "{1: 10, 2: 20, 3: 30, 4: 40, 5: 50, 6: 60}\n"
     ]
    }
   ],
   "source": [
    "# QUES 3\n",
    "# DHARSAN S RA2011003010732\n",
    "dic1={1:10, 2:20}\n",
    "dic2={3:30, 4:40}\n",
    "dic3={5:50,6:60}\n",
    "dic4 = {}\n",
    "for d in (dic1, dic2, dic3): dic4.update(d)\n",
    "print(dic4)"
   ]
  },
  {
   "cell_type": "code",
   "execution_count": 4,
   "metadata": {},
   "outputs": [
    {
     "name": "stdout",
     "output_type": "stream",
     "text": [
      "{1: 1, 2: 4, 3: 9, 4: 16, 5: 25, 6: 36, 7: 49, 8: 64, 9: 81, 10: 100, 11: 121, 12: 144, 13: 169, 14: 196, 15: 225}\n"
     ]
    }
   ],
   "source": [
    "# QUES 4\n",
    "# DHARSAN S RA2011003010732\n",
    "d=dict()\n",
    "for x in range(1,16):\n",
    "    d[x]=x**2\n",
    "print(d)  "
   ]
  },
  {
   "cell_type": "code",
   "execution_count": 5,
   "metadata": {},
   "outputs": [
    {
     "name": "stdout",
     "output_type": "stream",
     "text": [
      "Original Dictionary:\n",
      "{'c1': 'Red', 'c2': 'Green', 'c3': None}\n",
      "New Dictionary after dropping empty items:\n",
      "{'c1': 'Red', 'c2': 'Green'}\n"
     ]
    }
   ],
   "source": [
    "# QUES 5\n",
    "# DHARSAN S RA2011003010732\n",
    "dict1 = {'c1': 'Red', 'c2': 'Green', 'c3':None}\n",
    "print(\"Original Dictionary:\")\n",
    "print(dict1)\n",
    "print(\"New Dictionary after dropping empty items:\")\n",
    "dict1 = {key:value for (key, value) in dict1.items() if value is not None}\n",
    "print(dict1)"
   ]
  },
  {
   "cell_type": "code",
   "execution_count": 6,
   "metadata": {},
   "outputs": [
    {
     "name": "stdout",
     "output_type": "stream",
     "text": [
      "Original list:\n",
      "[('yellow', 1), ('blue', 2), ('yellow', 3), ('blue', 4), ('red', 1)]\n",
      "\n",
      "Grouping a sequence of key-value pairs into a dictionary of lists:\n",
      "{'yellow': [1, 3], 'blue': [2, 4], 'red': [1]}\n"
     ]
    }
   ],
   "source": [
    "# QUES 6\n",
    "# DHARSAN S RA2011003010732\n",
    "def grouping_dictionary(l):\n",
    "    result = {}\n",
    "    for k, v in l:\n",
    "         result.setdefault(k, []).append(v)\n",
    "    return result\n",
    "colors = [('yellow', 1), ('blue', 2), ('yellow', 3), ('blue', 4), ('red', 1)]\n",
    "print(\"Original list:\")\n",
    "print(colors)\n",
    "print(\"\\nGrouping a sequence of key-value pairs into a dictionary of lists:\")\n",
    "print(grouping_dictionary(colors))"
   ]
  },
  {
   "cell_type": "code",
   "execution_count": 7,
   "metadata": {},
   "outputs": [
    {
     "name": "stdout",
     "output_type": "stream",
     "text": [
      "\n",
      "Original Dictionary:\n",
      "[{'Math': 90, 'Science': 92}, {'Math': 89, 'Science': 94}, {'Math': 92, 'Science': 88}]\n",
      "\n",
      "Extract a list of values from said list of dictionaries where subject = Science\n",
      "[92, 94, 88]\n",
      "\n",
      "Original Dictionary:\n",
      "[{'Math': 90, 'Science': 92}, {'Math': 89, 'Science': 94}, {'Math': 92, 'Science': 88}]\n",
      "\n",
      "Extract a list of values from said list of dictionaries where subject = Math\n",
      "[90, 89, 92]\n"
     ]
    }
   ],
   "source": [
    "# QUES 7\n",
    "# DHARSAN S RA2011003010732\n",
    "def test(lst, marks):\n",
    "    result = [d[marks] for d in lst if marks in d]\n",
    "    return result\n",
    "marks = [{'Math': 90, 'Science': 92}, \n",
    "         {'Math': 89, 'Science': 94}, \n",
    "         {'Math': 92, 'Science': 88}]\n",
    "print(\"\\nOriginal Dictionary:\")\n",
    "print(marks)\n",
    "subj = \"Science\"\n",
    "print(\"\\nExtract a list of values from said list of dictionaries where subject =\",subj)\n",
    "print(test(marks, subj))\n",
    "print(\"\\nOriginal Dictionary:\")\n",
    "print(marks)\n",
    "subj = \"Math\"\n",
    "print(\"\\nExtract a list of values from said list of dictionaries where subject =\",subj)\n",
    "print(test(marks, subj))"
   ]
  },
  {
   "cell_type": "code",
   "execution_count": 8,
   "metadata": {},
   "outputs": [
    {
     "name": "stdout",
     "output_type": "stream",
     "text": [
      "\n",
      "Original Dictionary:\n",
      "{1: 'red', 2: 'green', 3: 'black', 4: 'white', 5: 'black'}\n",
      "Length of dictionary values:\n",
      "{'red': 3, 'green': 5, 'black': 5, 'white': 5}\n",
      "\n",
      "Original Dictionary:\n",
      "{'1': 'Austin Little', '2': 'Natasha Howard', '3': 'Alfred Mullins', '4': 'Jamie Rowe'}\n",
      "Length of dictionary values:\n",
      "{'Austin Little': 13, 'Natasha Howard': 14, 'Alfred Mullins': 14, 'Jamie Rowe': 10}\n"
     ]
    }
   ],
   "source": [
    "# QUES 8\n",
    "# DHARSAN S RA2011003010732\n",
    "def test(dictt):\n",
    "    result = {}\n",
    "    for val in dictt.values(): \n",
    "        result[val] = len(val) \n",
    "    return result    \n",
    "\n",
    "color_dict = {1 : 'red', 2 : 'green', 3 : 'black', 4 : 'white', 5 : 'black'}\n",
    "print(\"\\nOriginal Dictionary:\")\n",
    "print(color_dict)\n",
    "print(\"Length of dictionary values:\")\n",
    "print(test(color_dict))\n",
    "\n",
    "color_dict = {'1' : 'Austin Little', '2' : 'Natasha Howard', '3' : 'Alfred Mullins', '4' : 'Jamie Rowe'}\n",
    "print(\"\\nOriginal Dictionary:\")\n",
    "print(color_dict)\n",
    "print(\"Length of dictionary values:\")\n",
    "print(test(color_dict))"
   ]
  },
  {
   "cell_type": "code",
   "execution_count": 9,
   "metadata": {},
   "outputs": [
    {
     "name": "stdout",
     "output_type": "stream",
     "text": [
      "\n",
      "Original list of lists:\n",
      "[[1, 'Jean Castro', 'V'], [2, 'Lula Powell', 'V'], [3, 'Brian Howell', 'VI'], [4, 'Lynne Foster', 'VI'], [5, 'Zachary Simon', 'VII']]\n",
      "\n",
      "Convert the said list of lists to a dictionary:\n",
      "{1: ['Jean Castro', 'V'], 2: ['Lula Powell', 'V'], 3: ['Brian Howell', 'VI'], 4: ['Lynne Foster', 'VI'], 5: ['Zachary Simon', 'VII']}\n"
     ]
    }
   ],
   "source": [
    "# QUES 9\n",
    "# DHARSAN S RA2011003010732\n",
    "def test(lst):\n",
    "    result = {item[0]: item[1:] for item in lst}\n",
    "    return result\n",
    "\n",
    "students = [[1, 'Jean Castro', 'V'], [2, 'Lula Powell', 'V'], [3, 'Brian Howell', 'VI'], [4, 'Lynne Foster', 'VI'], [5, 'Zachary Simon', 'VII']]\n",
    "\n",
    "print(\"\\nOriginal list of lists:\")\n",
    "print(students)\n",
    "print(\"\\nConvert the said list of lists to a dictionary:\")\n",
    "print(test(students))"
   ]
  },
  {
   "cell_type": "code",
   "execution_count": 10,
   "metadata": {},
   "outputs": [
    {
     "name": "stdout",
     "output_type": "stream",
     "text": [
      "Original dictionaries:\n",
      "{'w': 50, 'x': 100, 'y': 'Green', 'z': 400}\n",
      "{'x': 300, 'y': 'Red', 'z': 600}\n",
      "\n",
      "Combined dictionaries, creating a list of values for each key:\n",
      "{'w': [50], 'x': [100, 300], 'y': ['Green', 'Red'], 'z': [400, 600]}\n"
     ]
    }
   ],
   "source": [
    "# QUES 10\n",
    "# DHARSAN S RA2011003010732\n",
    "from collections import defaultdict\n",
    "def test(*dicts):\n",
    "  result = defaultdict(list)\n",
    "  for el in dicts:\n",
    "    for key in el:\n",
    "      result[key].append(el[key])\n",
    "  return dict(result)\n",
    " \n",
    "d1 = {'w': 50, 'x': 100, 'y': 'Green', 'z': 400}\n",
    "d2 = {'x': 300, 'y': 'Red', 'z': 600}\n",
    "\n",
    "print(\"Original dictionaries:\")\n",
    "print(d1)\n",
    "print(d2)\n",
    "print(\"\\nCombined dictionaries, creating a list of values for each key:\")\n",
    "print(test(d1, d2))"
   ]
  }
 ],
 "metadata": {
  "kernelspec": {
   "display_name": "Python 3",
   "language": "python",
   "name": "python3"
  },
  "language_info": {
   "codemirror_mode": {
    "name": "ipython",
    "version": 3
   },
   "file_extension": ".py",
   "mimetype": "text/x-python",
   "name": "python",
   "nbconvert_exporter": "python",
   "pygments_lexer": "ipython3",
   "version": "3.9.6 (default, Oct 18 2022, 12:41:40) \n[Clang 14.0.0 (clang-1400.0.29.202)]"
  },
  "orig_nbformat": 4,
  "vscode": {
   "interpreter": {
    "hash": "31f2aee4e71d21fbe5cf8b01ff0e069b9275f58929596ceb00d14d90e3e16cd6"
   }
  }
 },
 "nbformat": 4,
 "nbformat_minor": 2
}
